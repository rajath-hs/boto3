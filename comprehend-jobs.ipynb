{
 "cells": [
  {
   "cell_type": "code",
   "execution_count": 17,
   "metadata": {},
   "outputs": [],
   "source": [
    "import boto3\n",
    "import json\n",
    "data={\n",
    "  \"Version\": \"2012-10-17\",\n",
    "  \"Statement\": [\n",
    "    {\n",
    "      \"Effect\": \"Allow\",\n",
    "      \"Principal\": {\n",
    "        \"Service\": \"comprehend.amazonaws.com\"\n",
    "      },\n",
    "      \"Action\": \"sts:AssumeRole\"\n",
    "    }\n",
    "  ]\n",
    "}\n",
    "\n",
    "client=boto3.client('iam')\n",
    "\n",
    "response = client.create_role(\n",
    "    RoleName='ComprheRole',\n",
    "    AssumeRolePolicyDocument=json.dumps(data)\n",
    ")"
   ]
  },
  {
   "cell_type": "code",
   "execution_count": 18,
   "metadata": {},
   "outputs": [],
   "source": [
    "\n",
    "response = client.attach_role_policy(\n",
    "    RoleName='ComprheRole',\n",
    "    PolicyArn='arn:aws:iam::aws:policy/service-role/ComprehendDataAccessRolePolicy'\n",
    ")"
   ]
  },
  {
   "cell_type": "code",
   "execution_count": 86,
   "metadata": {},
   "outputs": [
    {
     "name": "stdout",
     "output_type": "stream",
     "text": [
      "{'ResponseMetadata': {'RequestId': '39478EA490CBD7B6', 'HostId': 'XxvW+iuiOgHEylMVUM3B6bEk+eC0e4SiJm4rC7q8Aj+P+K1N92bmD60MCkRjU12c7BR899gRfAs=', 'HTTPStatusCode': 200, 'HTTPHeaders': {'x-amz-id-2': 'XxvW+iuiOgHEylMVUM3B6bEk+eC0e4SiJm4rC7q8Aj+P+K1N92bmD60MCkRjU12c7BR899gRfAs=', 'x-amz-request-id': '39478EA490CBD7B6', 'date': 'Fri, 16 Oct 2020 04:45:26 GMT', 'location': '/comprehendjob-query', 'content-length': '0', 'server': 'AmazonS3'}, 'RetryAttempts': 0}, 'Location': '/comprehendjob-query'}\n"
     ]
    }
   ],
   "source": [
    "import boto3\n",
    "\n",
    "client=boto3.client('s3')\n",
    "response = client.create_bucket(\n",
    "    Bucket='comprehendjob-query',\n",
    "    \n",
    ")\n",
    "print(response)"
   ]
  },
  {
   "cell_type": "code",
   "execution_count": 90,
   "metadata": {},
   "outputs": [
    {
     "name": "stdout",
     "output_type": "stream",
     "text": [
      "{'JobId': '12f3967489b48b38c3a1eea8979455f7', 'JobStatus': 'SUBMITTED', 'ResponseMetadata': {'RequestId': '4229fb6b-220e-49f3-87a1-f95c4f945f16', 'HTTPStatusCode': 200, 'HTTPHeaders': {'x-amzn-requestid': '4229fb6b-220e-49f3-87a1-f95c4f945f16', 'content-type': 'application/x-amz-json-1.1', 'content-length': '68', 'date': 'Fri, 16 Oct 2020 06:45:46 GMT'}, 'RetryAttempts': 0}}\n"
     ]
    }
   ],
   "source": [
    "import boto3\n",
    "\n",
    "client=boto3.client('comprehend')\n",
    "response = client.start_sentiment_detection_job(\n",
    "    InputDataConfig={\n",
    "        'S3Uri': 's3://senti-analysis-in/amazon-reviews.csv',\n",
    "        'InputFormat':'ONE_DOC_PER_LINE'\n",
    "    },\n",
    "    OutputDataConfig={\n",
    "        'S3Uri': 's3://senti-analysis-out'\n",
    "    },\n",
    "    DataAccessRoleArn='arn:aws:iam::141292516170:role/ComprheRole',\n",
    "    JobName='comp-sentiment-analysis',\n",
    "    LanguageCode='en'\n",
    ")\n",
    "print(response)"
   ]
  },
  {
   "cell_type": "code",
   "execution_count": 81,
   "metadata": {},
   "outputs": [],
   "source": [
    "import boto3\n",
    "s3 = boto3.resource('s3')\n",
    "s3.meta.client.upload_file('C:/Users/MY PC/Documents/docs/output', 'comprehendjob-senti-res', 'output')\n"
   ]
  },
  {
   "cell_type": "code",
   "execution_count": 67,
   "metadata": {},
   "outputs": [],
   "source": [
    "import boto3\n",
    "import json\n",
    "data={\n",
    "  \"Version\": \"2012-10-17\",\n",
    "  \"Statement\": [\n",
    "    {\n",
    "      \"Effect\": \"Allow\",\n",
    "      \"Principal\": {\n",
    "        \"Service\": \"glue.amazonaws.com\"\n",
    "      },\n",
    "      \"Action\": \"sts:AssumeRole\"\n",
    "    }\n",
    "  ]\n",
    "}\n",
    "\n",
    "client=boto3.client('iam')\n",
    "\n",
    "response = client.create_role(\n",
    "    RoleName='GlueRole1',\n",
    "    AssumeRolePolicyDocument=json.dumps(data)\n",
    ")"
   ]
  },
  {
   "cell_type": "code",
   "execution_count": 68,
   "metadata": {},
   "outputs": [],
   "source": [
    "import json\n",
    "data={\n",
    "    \"Version\": \"2012-10-17\",\n",
    "    \"Statement\": [\n",
    "        {\n",
    "            \"Effect\": \"Allow\",\n",
    "            \"Action\": [\n",
    "                \"s3:GetObject\",\n",
    "                \"s3:PutObject\"\n",
    "            ],\n",
    "            \"Resource\": [\n",
    "                \"arn:aws:s3:::comprehendjob-bucketres/output\"\n",
    "            ]\n",
    "        }\n",
    "    ]\n",
    "}\n",
    "response = client.create_policy(\n",
    "    PolicyName='glue_s3policy',\n",
    "    PolicyDocument=json.dumps(data)\n",
    "\n",
    ")"
   ]
  },
  {
   "cell_type": "code",
   "execution_count": 69,
   "metadata": {},
   "outputs": [],
   "source": [
    "response = client.attach_role_policy(\n",
    "    RoleName='GlueRole1',\n",
    "    PolicyArn='arn:aws:iam::141292516170:policy/glue_s3policy'\n",
    ")"
   ]
  },
  {
   "cell_type": "code",
   "execution_count": 84,
   "metadata": {},
   "outputs": [
    {
     "name": "stdout",
     "output_type": "stream",
     "text": [
      "{'ResponseMetadata': {'RequestId': '381f6b0e-63d6-4664-9a5b-9030ea2d9c75', 'HTTPStatusCode': 200, 'HTTPHeaders': {'date': 'Thu, 15 Oct 2020 10:13:38 GMT', 'content-type': 'application/x-amz-json-1.1', 'content-length': '2', 'connection': 'keep-alive', 'x-amzn-requestid': '381f6b0e-63d6-4664-9a5b-9030ea2d9c75'}, 'RetryAttempts': 0}}\n"
     ]
    }
   ],
   "source": [
    "import boto3\n",
    "\n",
    "client = boto3.client('glue')\n",
    "response = client.create_crawler(\n",
    "    Name='comprehend-analysis-crawler2',\n",
    "    Role='GlueRole',\n",
    "    DatabaseName='comprehend-results1',\n",
    "    Targets={\n",
    "        'S3Targets': [\n",
    "            {\n",
    "                'Path': 's3://comprehendjob-senti-res/',\n",
    "                \n",
    "            },\n",
    "        ]\n",
    "    },\n",
    "    \n",
    ")\n",
    "print(response)"
   ]
  },
  {
   "cell_type": "code",
   "execution_count": 83,
   "metadata": {},
   "outputs": [],
   "source": [
    "import boto3\n",
    "client= boto3.client('glue')\n",
    "response = client.create_database(\n",
    "    DatabaseInput={\n",
    "        'Name': 'comprehend-results1',\n",
    "       \n",
    "        }\n",
    "    \n",
    ")"
   ]
  },
  {
   "cell_type": "code",
   "execution_count": 85,
   "metadata": {},
   "outputs": [],
   "source": [
    "import boto3\n",
    "\n",
    "client=boto3.client('glue')\n",
    "response = client.start_crawler(\n",
    "    Name='comprehend-analysis-crawler2'\n",
    ")"
   ]
  },
  {
   "cell_type": "code",
   "execution_count": 48,
   "metadata": {},
   "outputs": [
    {
     "name": "stdout",
     "output_type": "stream",
     "text": [
      "{'NamedQueryId': '70fca7b1-9990-4061-bc30-be8d38325858', 'ResponseMetadata': {'RequestId': 'ad9c0d53-3edf-4d0e-becb-bead08b51e6e', 'HTTPStatusCode': 200, 'HTTPHeaders': {'content-type': 'application/x-amz-json-1.1', 'date': 'Tue, 13 Oct 2020 10:27:12 GMT', 'x-amzn-requestid': 'ad9c0d53-3edf-4d0e-becb-bead08b51e6e', 'content-length': '55', 'connection': 'keep-alive'}, 'RetryAttempts': 0}}\n"
     ]
    }
   ],
   "source": [
    "import boto3\n",
    "\n",
    "client=boto3.client('athena')\n",
    "\n",
    "response = client.create_named_query(\n",
    "    Name='sql',\n",
    "    Database='comprehend-results',\n",
    "    QueryString='''CREATE TABLE sentiment_results_final AS\n",
    "SELECT file, line, sentiment,\n",
    "sentimentscore.mixed AS mixed,\n",
    "sentimentscore.negative AS negative,\n",
    "sentimentscore.neutral AS neutral,\n",
    "sentimentscore.positive AS positive\n",
    "FROM sentiment_results'''\n",
    ")\n",
    "print(response)"
   ]
  },
  {
   "cell_type": "code",
   "execution_count": 50,
   "metadata": {},
   "outputs": [
    {
     "name": "stdout",
     "output_type": "stream",
     "text": [
      "{'NamedQuery': {'Name': 'sql', 'Database': 'comprehend-results', 'QueryString': 'CREATE TABLE sentiment_results_final AS\\nSELECT file, line, sentiment,\\nsentimentscore.mixed AS mixed,\\nsentimentscore.negative AS negative,\\nsentimentscore.neutral AS neutral,\\nsentimentscore.positive AS positive\\nFROM sentiment_results', 'NamedQueryId': '70fca7b1-9990-4061-bc30-be8d38325858', 'WorkGroup': 'primary'}, 'ResponseMetadata': {'RequestId': 'b4e45a11-f4b0-4f24-9893-80b3d55d4475', 'HTTPStatusCode': 200, 'HTTPHeaders': {'content-type': 'application/x-amz-json-1.1', 'date': 'Tue, 13 Oct 2020 10:37:35 GMT', 'x-amzn-requestid': 'b4e45a11-f4b0-4f24-9893-80b3d55d4475', 'content-length': '391', 'connection': 'keep-alive'}, 'RetryAttempts': 0}}\n"
     ]
    }
   ],
   "source": [
    "response = client.get_named_query(\n",
    "    NamedQueryId='70fca7b1-9990-4061-bc30-be8d38325858'\n",
    ")\n",
    "print(response)\n"
   ]
  },
  {
   "cell_type": "code",
   "execution_count": 88,
   "metadata": {},
   "outputs": [
    {
     "name": "stdout",
     "output_type": "stream",
     "text": [
      "{'QueryExecutionId': '902581e3-fef2-4dfe-bc16-9cca74d264b2', 'ResponseMetadata': {'RequestId': 'dc718524-6df4-4e5a-8283-138fb24cecd0', 'HTTPStatusCode': 200, 'HTTPHeaders': {'content-type': 'application/x-amz-json-1.1', 'date': 'Fri, 16 Oct 2020 04:47:29 GMT', 'x-amzn-requestid': 'dc718524-6df4-4e5a-8283-138fb24cecd0', 'content-length': '59', 'connection': 'keep-alive'}, 'RetryAttempts': 0}}\n"
     ]
    }
   ],
   "source": [
    "import boto3\n",
    "\n",
    "client=boto3.client('athena')\n",
    "\n",
    "response = client.start_query_execution(\n",
    "    QueryString='''CREATE TABLE sentiment_results_final AS\n",
    "SELECT file, line, sentiment,\n",
    "sentimentscore.mixed AS mixed,\n",
    "sentimentscore.negative AS negative,\n",
    "sentimentscore.neutral AS neutral,\n",
    "sentimentscore.positive AS positive\n",
    "FROM comprehendjob_senti_res''',\n",
    "    QueryExecutionContext={\n",
    "        'Database': 'comprehend-results1'\n",
    "    },\n",
    "    ResultConfiguration={\n",
    "        'OutputLocation': 's3://comprehendjob-query/',\n",
    "        'EncryptionConfiguration': {\n",
    "            'EncryptionOption': 'SSE_S3'\n",
    "        }\n",
    "    }\n",
    ")\n",
    "print(response)"
   ]
  },
  {
   "cell_type": "code",
   "execution_count": 89,
   "metadata": {},
   "outputs": [
    {
     "name": "stdout",
     "output_type": "stream",
     "text": [
      "{'UpdateCount': 36, 'ResultSet': {'Rows': [], 'ResultSetMetadata': {'ColumnInfo': [{'CatalogName': 'hive', 'SchemaName': '', 'TableName': '', 'Name': 'rows', 'Label': 'rows', 'Type': 'bigint', 'Precision': 19, 'Scale': 0, 'Nullable': 'UNKNOWN', 'CaseSensitive': False}]}}, 'ResponseMetadata': {'RequestId': 'e6086e94-eacc-4e7c-b796-2ab6af988c45', 'HTTPStatusCode': 200, 'HTTPHeaders': {'content-type': 'application/x-amz-json-1.1', 'date': 'Fri, 16 Oct 2020 04:50:02 GMT', 'x-amzn-requestid': 'e6086e94-eacc-4e7c-b796-2ab6af988c45', 'content-length': '445', 'connection': 'keep-alive'}, 'RetryAttempts': 0}}\n"
     ]
    }
   ],
   "source": [
    "response = client.get_query_results(\n",
    "    QueryExecutionId='902581e3-fef2-4dfe-bc16-9cca74d264b2',\n",
    "   \n",
    ")\n",
    "print(response)"
   ]
  },
  {
   "cell_type": "code",
   "execution_count": 79,
   "metadata": {},
   "outputs": [
    {
     "ename": "SyntaxError",
     "evalue": "unexpected EOF while parsing (<ipython-input-79-01095f8762b0>, line 45)",
     "output_type": "error",
     "traceback": [
      "\u001b[1;36m  File \u001b[1;32m\"<ipython-input-79-01095f8762b0>\"\u001b[1;36m, line \u001b[1;32m45\u001b[0m\n\u001b[1;33m    Policy=json.dumps(data)\u001b[0m\n\u001b[1;37m                           ^\u001b[0m\n\u001b[1;31mSyntaxError\u001b[0m\u001b[1;31m:\u001b[0m unexpected EOF while parsing\n"
     ]
    }
   ],
   "source": [
    "import boto3\n",
    "import json\n",
    "\n",
    "data={\n",
    "    \"Version\": \"2012-10-17\",\n",
    "    \"Statement\": [\n",
    "        {\n",
    "            \"Effect\": \"Allow\",\n",
    "            \"Action\": \"s3-outposts:*\",\n",
    "            \"Resource\": \"*\"\n",
    "        },\n",
    "        {\n",
    "            \"Effect\": \"Allow\",\n",
    "            \"Action\": [\n",
    "                \"datasync:ListTasks\",\n",
    "                \"datasync:ListLocations\",\n",
    "                \"datasync:DescribeTask\",\n",
    "                \"datasync:DescribeLocation*\"\n",
    "            ],\n",
    "            \"Resource\": \"*\"\n",
    "        },\n",
    "        {\n",
    "            \"Effect\": \"Allow\",\n",
    "            \"Action\": [\n",
    "                \"ec2:DescribeVpcs\",\n",
    "                \"ec2:DescribeSubnets\",\n",
    "                \"ec2:DescribeSecurityGroups\",\n",
    "                \"ec2:DescribeNetworkInterfaces\"\n",
    "            ],\n",
    "            \"Resource\": \"*\"\n",
    "        },\n",
    "        {\n",
    "            \"Effect\": \"Allow\",\n",
    "            \"Action\": [\n",
    "                \"outposts:ListOutposts\",\n",
    "                \"outposts:GetOutpost\"\n",
    "            ],\n",
    "            \"Resource\": \"*\"\n",
    "        }\n",
    "    ]\n",
    "}\n",
    "client=boto3.client('s3')\n",
    "response = client.put_bucket_policy(\n",
    "    Bucket='comprehendjob-bucketres',\n",
    "    Policy=json.dumps(data)"
   ]
  },
  {
   "cell_type": "code",
   "execution_count": null,
   "metadata": {},
   "outputs": [],
   "source": []
  }
 ],
 "metadata": {
  "kernelspec": {
   "display_name": "Python 3",
   "language": "python",
   "name": "python3"
  },
  "language_info": {
   "codemirror_mode": {
    "name": "ipython",
    "version": 3
   },
   "file_extension": ".py",
   "mimetype": "text/x-python",
   "name": "python",
   "nbconvert_exporter": "python",
   "pygments_lexer": "ipython3",
   "version": "3.8.3"
  }
 },
 "nbformat": 4,
 "nbformat_minor": 4
}
